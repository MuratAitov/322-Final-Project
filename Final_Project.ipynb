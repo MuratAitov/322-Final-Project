{
  "nbformat": 4,
  "nbformat_minor": 0,
  "metadata": {
    "colab": {
      "provenance": [],
      "authorship_tag": "ABX9TyPw59wI7F+nIN0YtjugefAI",
      "include_colab_link": true
    },
    "kernelspec": {
      "name": "python3",
      "display_name": "Python 3"
    },
    "language_info": {
      "name": "python"
    }
  },
  "cells": [
    {
      "cell_type": "markdown",
      "metadata": {
        "id": "view-in-github",
        "colab_type": "text"
      },
      "source": [
        "<a href=\"https://colab.research.google.com/github/MuratAitov/322-FinalProject/blob/main/Final_Project.ipynb\" target=\"_parent\"><img src=\"https://colab.research.google.com/assets/colab-badge.svg\" alt=\"Open In Colab\"/></a>"
      ]
    },
    {
      "cell_type": "markdown",
      "source": [
        "# Project Proposal: Customer Churn Prediction Using Machine Learning\n",
        "\n",
        "## Team Members\n",
        "- **Murat Aitov**\n",
        "- **Yajaira Valentinez**\n",
        "\n",
        "---\n",
        "\n",
        "## Project Name\n",
        "### Predicting Customer Churn in Telecom Industry\n",
        "\n",
        "---\n",
        "\n",
        "## 1. Dataset Description\n",
        "\n",
        "- **Source**: Telco Customer Churn dataset from Kaggle.\n",
        "- **Format**: CSV file.\n",
        "- **Contents**: Information on 7,043 customers, including demographics, account details, and services.\n",
        "- **Attributes Overview**:\n",
        "  - **Gender**: Categorical (Male/Female)\n",
        "  - **SeniorCitizen**: Binary (0/1)\n",
        "  - **Tenure**: Numeric (number of months a customer has stayed)\n",
        "  - **InternetService**: Categorical (DSL, Fiber optic, None)\n",
        "  - **Contract**: Categorical (Month-to-month, One year, Two year)\n",
        "  - **MonthlyCharges**: Numeric\n",
        "  - **TotalCharges**: Numeric\n",
        "  - **Churn**: Categorical (Yes/No - the target attribute)\n",
        "\n",
        "---\n",
        "\n",
        "## 2. Implementation/Technical Merit\n",
        "\n",
        "### Anticipated Challenges\n",
        "- **Data Cleaning**: Handle missing values, especially in `TotalCharges` for new customers.\n",
        "- **Class Imbalance**: Addressing the imbalance due to more non-churn instances.\n",
        "- **Feature Engineering**: Create new features such as tenure groups and interaction terms between service types.\n",
        "\n",
        "### Feature Selection\n",
        "- Perform feature selection using EDA, correlation analysis, and feature importance from initial models.\n",
        "\n",
        "---\n",
        "\n",
        "## 3. Potential Impact of the Results\n",
        "\n",
        "### Usefulness\n",
        "- **Telecom Companies**: Enhance customer retention strategies.\n",
        "- **Customer Service Teams**: Enable targeted outreach and support.\n",
        "- **Data Science and Marketing Teams**: Design effective churn reduction campaigns based on predictive insights.\n",
        "\n",
        "### Stakeholders\n",
        "- Telecom companies, customer service teams, data science, and marketing teams.\n",
        "\n",
        "---\n",
        "\n",
        "## 4. Implementation Plan\n",
        "\n",
        "### 4.1 Exploratory Data Analysis (EDA)\n",
        "- Analyze data distributions and visualize key patterns.\n",
        "- Identify relationships between features and churn.\n",
        "\n",
        "### 4.2 Classifiers to Use\n",
        "- **Random Forest**\n",
        "- **Decision Tree** (for baseline comparison)\n",
        "- **K-Nearest Neighbors (KNN)**\n",
        "- **Naive Bayes**\n",
        "\n",
        "### 4.3 Evaluation Metrics\n",
        "- **Metrics**: Accuracy, Precision, Recall, F1-score, ROC-AUC.\n",
        "- **Validation**: Cross-validation for robust performance comparisons.\n",
        "\n",
        "### 4.4 Hyperparameter Tuning\n",
        "- Experiment with `N`, `M`, and `F` parameters in `MyRandomForestClassifier` for optimal performance.\n",
        "\n",
        "---\n",
        "\n",
        "## 5. GitHub and Submission\n",
        "\n",
        "### Repository Structure\n",
        "- **mysklearn** package for source code.\n",
        "- Document results using a **Jupyter Notebook**.\n",
        "- Include **unit tests** and a comprehensive **README.md**.\n",
        "\n",
        "### Final Output\n",
        "- Present findings in a **16:9 slide**.\n",
        "- Develop a **Flask web app** to showcase the best classifier.\n",
        "- **Deploy locally** for demonstration.\n",
        "\n",
        "---\n",
        "\n",
        "*Prepared by Murat Aitov & Yajaira Valentinez*"
      ],
      "metadata": {
        "id": "FS8p-eWFvkik"
      }
    },
    {
      "cell_type": "code",
      "source": [],
      "metadata": {
        "id": "p4rxwt1_vlBJ"
      },
      "execution_count": null,
      "outputs": []
    }
  ]
}