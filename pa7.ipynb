{
 "cells": [
  {
   "cell_type": "code",
   "execution_count": 2,
   "metadata": {},
   "outputs": [],
   "source": [
    "# some useful mysklearn package import statements and reloads\n",
    "import importlib\n",
    "import tabulate\n",
    "from collections import Counter\n",
    "\n",
    "\n",
    "import mysklearn.myutils\n",
    "importlib.reload(mysklearn.myutils)\n",
    "import mysklearn.myutils as myutils\n",
    "\n",
    "# uncomment once you paste your mypytable.py into mysklearn package\n",
    "import mysklearn.mypytable\n",
    "importlib.reload(mysklearn.mypytable)\n",
    "from mysklearn.mypytable import MyPyTable\n",
    "\n",
    "# uncomment once you paste your myclassifiers.py into mysklearn package\n",
    "import mysklearn.myclassifiers\n",
    "importlib.reload(mysklearn.myclassifiers)\n",
    "from mysklearn.myclassifiers import MyKNeighborsClassifier, MyDummyClassifier, MyNaiveBayesClassifier, MyDecisionTreeClassifier\n",
    "\n",
    "import mysklearn.myevaluation\n",
    "importlib.reload(mysklearn.myevaluation)\n",
    "import mysklearn.myevaluation as myevaluation"
   ]
  },
  {
   "cell_type": "markdown",
   "metadata": {},
   "source": [
    "## Data Loading and Preprocessing\n",
    "We start by loading the dataset and preparing it for classification. This includes:\n",
    "- Removing unnecessary columns (`Season`, `HomeTeam`, `AwayTeam`).\n",
    "- Checking for missing values.\n",
    "- Splitting features and labels.\n"
   ]
  },
  {
   "cell_type": "code",
   "execution_count": 3,
   "metadata": {},
   "outputs": [
    {
     "name": "stdout",
     "output_type": "stream",
     "text": [
      "Dataset Shape: (331, 18)\n",
      "Target Distribution: Counter({'H': 174, 'A': 157})\n"
     ]
    }
   ],
   "source": [
    "filename = \"input_data/tournament_games2016-2021.csv\"\n",
    "table = MyPyTable()\n",
    "table.load_from_file(filename)\n",
    "\n",
    "table.drop_rows([table.column_names.index(\"Season\"),\n",
    "                 table.column_names.index(\"HomeTeam\"),\n",
    "                 table.column_names.index(\"AwayTeam\")])\n",
    "\n",
    "table.remove_rows_with_missing_values()\n",
    "\n",
    "X = [row[:-1] for row in table.data]\n",
    "y = [row[-1] for row in table.data]\n",
    "\n",
    "# Display dataset statistics\n",
    "print(\"Dataset Shape:\", table.get_shape())\n",
    "print(\"Target Distribution:\", Counter(y))"
   ]
  },
  {
   "cell_type": "markdown",
   "metadata": {},
   "source": [
    "## Step 1: Using Only `TournamentSeed`\n",
    "This step uses the `TournamentSeed` feature to build classifiers. The models tested are:\n",
    "1. Dummy Classifier\n",
    "2. k-Nearest Neighbors (kNN)\n",
    "3. Naive Bayes\n",
    "4. Decision Tree\n",
    "\n",
    "We evaluate the models using stratified 10-fold cross-validation.\n"
   ]
  },
  {
   "cell_type": "code",
   "execution_count": 4,
   "metadata": {},
   "outputs": [
    {
     "name": "stdout",
     "output_type": "stream",
     "text": [
      "\n",
      "Model: Dummy Classifier\n",
      "Metric       Value\n",
      "---------  -------\n",
      "accuracy      0.53\n",
      "precision     0.53\n",
      "recall        1.00\n",
      "f1            0.69\n",
      "\n",
      "Model: KNN Classifier\n",
      "Metric       Value\n",
      "---------  -------\n",
      "accuracy      0.47\n",
      "precision     0.00\n",
      "recall        0.00\n",
      "f1            0.00\n",
      "\n",
      "Model: Naive Bayes Classifier\n",
      "Metric       Value\n",
      "---------  -------\n",
      "accuracy      0.69\n",
      "precision     0.69\n",
      "recall        0.76\n",
      "f1            0.72\n",
      "\n",
      "Model: Decision Tree Classifier\n",
      "Metric       Value\n",
      "---------  -------\n",
      "accuracy      0.69\n",
      "precision     0.69\n",
      "recall        0.76\n",
      "f1            0.72\n"
     ]
    }
   ],
   "source": [
    "# Feature extraction for Step 1\n",
    "X_seed_only = [[row[-2]] for row in X]  # Extract only the \"TournamentSeed\" feature\n",
    "\n",
    "# Encode categorical features\n",
    "X_encoded = myutils.encode_categorical_features(X_seed_only)\n",
    "\n",
    "# Stratified 10-fold cross-validation\n",
    "n_splits = 10\n",
    "folds = myevaluation.stratified_kfold_split(X_encoded, y, n_splits=n_splits, random_state=42)\n",
    "\n",
    "# Define classifiers\n",
    "dummy = MyDummyClassifier()\n",
    "knn = MyKNeighborsClassifier(n_neighbors=3)\n",
    "nb = MyNaiveBayesClassifier()\n",
    "dt = MyDecisionTreeClassifier()\n",
    "\n",
    "# Evaluate classifiers\n",
    "classifiers = {\n",
    "    \"Dummy Classifier\": MyDummyClassifier(),\n",
    "    \"KNN Classifier\": MyKNeighborsClassifier(n_neighbors=3),\n",
    "    \"Naive Bayes Classifier\": MyNaiveBayesClassifier(),\n",
    "    \"Decision Tree Classifier\": MyDecisionTreeClassifier(),\n",
    "}\n",
    "\n",
    "results = {}\n",
    "\n",
    "for name, clf in classifiers.items():\n",
    "    metrics = myevaluation.cross_validate(clf, X_encoded, y, folds)\n",
    "    results[name] = metrics\n",
    "\n",
    "# Print results\n",
    "for model, metrics in results.items():\n",
    "    print(f\"\\nModel: {model}\")\n",
    "    metrics_table = [[key, value] for key, value in metrics.items()]\n",
    "    print(tabulate.tabulate(metrics_table, headers=[\"Metric\", \"Value\"], floatfmt=\".2f\"))"
   ]
  },
  {
   "cell_type": "markdown",
   "metadata": {},
   "source": [
    "# Step 2: Using a Feature Subset of Your Choosing\n"
   ]
  },
  {
   "cell_type": "code",
   "execution_count": 5,
   "metadata": {},
   "outputs": [
    {
     "name": "stdout",
     "output_type": "stream",
     "text": [
      "Evaluating Dummy Classifier on selected features...\n",
      "Evaluating KNN Classifier on selected features...\n",
      "Evaluating Naive Bayes Classifier on selected features...\n",
      "Evaluating Decision Tree Classifier on selected features...\n",
      "\n",
      "Model: Dummy Classifier\n",
      "Metric       Value\n",
      "---------  -------\n",
      "accuracy      0.53\n",
      "precision     0.53\n",
      "recall        1.00\n",
      "f1            0.69\n",
      "\n",
      "Model: KNN Classifier\n",
      "Metric       Value\n",
      "---------  -------\n",
      "accuracy      0.67\n",
      "precision     0.76\n",
      "recall        0.55\n",
      "f1            0.63\n",
      "\n",
      "Model: Naive Bayes Classifier\n",
      "Metric       Value\n",
      "---------  -------\n",
      "accuracy      0.69\n",
      "precision     0.71\n",
      "recall        0.70\n",
      "f1            0.70\n",
      "\n",
      "Model: Decision Tree Classifier\n",
      "Metric       Value\n",
      "---------  -------\n",
      "accuracy      0.70\n",
      "precision     0.70\n",
      "recall        0.77\n",
      "f1            0.73\n"
     ]
    }
   ],
   "source": [
    "# Choose a subset of features for Step 2\n",
    "selected_features = [\n",
    "    \"RegularEndingWStreak\",\n",
    "    \"RegularSeasonFGPercentMean\",\n",
    "    \"LastOrdinalRank\"\n",
    "]\n",
    "\n",
    "# Filter the data to include only the selected features\n",
    "feature_indices = [table.column_names.index(feature) for feature in selected_features]\n",
    "X_subset = [[row[i] for i in feature_indices] for row in table.data]\n",
    "\n",
    "# Encode the selected features\n",
    "X_encoded_subset = myutils.encode_categorical_features(X_subset)\n",
    "\n",
    "# Stratified k-fold cross-validation\n",
    "folds_subset = myevaluation.stratified_kfold_split(X_encoded_subset, y, n_splits=n_splits, random_state=42)\n",
    "\n",
    "# Evaluate classifiers on the selected features\n",
    "results_subset = {}\n",
    "for name, clf in classifiers.items():\n",
    "    print(f\"Evaluating {name} on selected features...\")\n",
    "    metrics = myevaluation.cross_validate(clf, X_encoded_subset, y, folds_subset)\n",
    "    results_subset[name] = metrics\n",
    "\n",
    "# Display results\n",
    "for model, metrics in results_subset.items():\n",
    "    print(f\"\\nModel: {model}\")\n",
    "    metrics_table = [[key, float(value)] for key, value in metrics.items()]\n",
    "    print(tabulate.tabulate(metrics_table, headers=[\"Metric\", \"Value\"], floatfmt=\".2f\"))\n"
   ]
  },
  {
   "cell_type": "markdown",
   "metadata": {},
   "source": [
    "# Decision Tree Rules and Pruning\n"
   ]
  },
  {
   "cell_type": "code",
   "execution_count": 6,
   "metadata": {},
   "outputs": [
    {
     "name": "stdout",
     "output_type": "stream",
     "text": [
      "\n",
      "Decision Tree Rules:\n",
      "IF LastOrdinalRank == -5327884911291504252 AND TournamentSeed == -5327884911291504252 AND RegularEndingWStreak == -5327884911291504252 THEN Winner = A\n",
      "IF LastOrdinalRank == -5327884911291504252 AND TournamentSeed == -5327884911291504252 AND RegularEndingWStreak == -2890932978632004649 THEN Winner = A\n",
      "IF LastOrdinalRank == -5327884911291504252 AND TournamentSeed == -2890932978632004649 AND RegularEndingWStreak == -5327884911291504252 THEN Winner = H\n",
      "IF LastOrdinalRank == -5327884911291504252 AND TournamentSeed == -2890932978632004649 AND RegularEndingWStreak == -2890932978632004649 THEN Winner = A\n",
      "IF LastOrdinalRank == -2890932978632004649 AND RegularEndingWStreak == -5327884911291504252 AND TournamentSeed == -5327884911291504252 THEN Winner = H\n",
      "IF LastOrdinalRank == -2890932978632004649 AND RegularEndingWStreak == -5327884911291504252 AND TournamentSeed == -2890932978632004649 THEN Winner = H\n",
      "IF LastOrdinalRank == -2890932978632004649 AND RegularEndingWStreak == -2890932978632004649 AND TournamentSeed == -5327884911291504252 THEN Winner = H\n",
      "IF LastOrdinalRank == -2890932978632004649 AND RegularEndingWStreak == -2890932978632004649 AND TournamentSeed == -2890932978632004649 THEN Winner = H\n",
      "\n",
      "Pruned Rule Set:\n",
      "1. If LastOrdinalRank = H AND TournamentSeed = H THEN Winner = H.\n",
      "2. If LastOrdinalRank = A AND TournamentSeed = A THEN Winner = A.\n",
      "3. If LastOrdinalRank = A AND RegularEndingWStreak = H THEN Winner = A.\n",
      "\n"
     ]
    }
   ],
   "source": [
    "\n",
    "dt = MyDecisionTreeClassifier()\n",
    "dt.fit(X_encoded_subset, y)\n",
    "\n",
    "decoded_rules = {\n",
    "    392099197417919076: \"H\",\n",
    "    4590619080915168380: \"A\"\n",
    "}\n",
    "\n",
    "print(\"\\nDecision Tree Rules:\")\n",
    "dt.print_decision_rules(\n",
    "    attribute_names=[\"TournamentSeed\", \"RegularEndingWStreak\", \"LastOrdinalRank\"],\n",
    "    class_name=\"Winner\",\n",
    "    decode_map=decoded_rules\n",
    ")\n",
    "\n",
    "pruned_rules = \"\"\"\n",
    "Pruned Rule Set:\n",
    "1. If LastOrdinalRank = H AND TournamentSeed = H THEN Winner = H.\n",
    "2. If LastOrdinalRank = A AND TournamentSeed = A THEN Winner = A.\n",
    "3. If LastOrdinalRank = A AND RegularEndingWStreak = H THEN Winner = A.\n",
    "\"\"\"\n",
    "print(pruned_rules)\n"
   ]
  },
  {
   "cell_type": "code",
   "execution_count": 7,
   "metadata": {},
   "outputs": [
    {
     "name": "stdout",
     "output_type": "stream",
     "text": [
      "Tree visual saved to tree_vis/tree.dot and tree_vis/tree.pdf\n"
     ]
    }
   ],
   "source": [
    "# Specify filenames for the .dot and .pdf outputs\n",
    "dot_filename = \"tree_vis/tree\"\n",
    "pdf_filename = \"tree_vis/tree\"\n",
    "\n",
    "# Visualize the tree\n",
    "dt.visualize_tree(\n",
    "    dot_fname=dot_filename,\n",
    "    pdf_fname=pdf_filename,\n",
    "    attribute_names=[\"TournamentSeed\", \"RegularEndingWStreak\", \"LastOrdinalRank\"]\n",
    ")\n"
   ]
  },
  {
   "cell_type": "markdown",
   "metadata": {},
   "source": []
  }
 ],
 "metadata": {
  "kernelspec": {
   "display_name": "Python 3",
   "language": "python",
   "name": "python3"
  },
  "language_info": {
   "codemirror_mode": {
    "name": "ipython",
    "version": 3
   },
   "file_extension": ".py",
   "mimetype": "text/x-python",
   "name": "python",
   "nbconvert_exporter": "python",
   "pygments_lexer": "ipython3",
   "version": "3.12.6"
  }
 },
 "nbformat": 4,
 "nbformat_minor": 4
}
